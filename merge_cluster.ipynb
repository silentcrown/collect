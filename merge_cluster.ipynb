{
 "cells": [
  {
   "cell_type": "code",
   "execution_count": 1,
   "metadata": {},
   "outputs": [],
   "source": [
    "# coding:utf-8\n",
    "import pandas as pd \n",
    "import pickle \n",
    "import pynlpir\n",
    "import numpy as np\n",
    "from collections import Counter\n",
    "import jieba \n",
    "from sklearn.feature_extraction.text import  TfidfVectorizer\n",
    "from sklearn.cluster import KMeans\n",
    "import json\n",
    "import xlrd\n",
    "import time\n",
    "import pickle\n",
    "import random"
   ]
  },
  {
   "cell_type": "code",
   "execution_count": 2,
   "metadata": {},
   "outputs": [],
   "source": [
    "data = xlrd.open_workbook('data/知识点导出_2018-10-24.xlsx')  #读取数据\n",
    "page = len(data.sheets())                             #获取sheet的数量\n",
    "table = data.sheets()[0]                                #打开第一张表\n",
    "nrows = table.nrows                                     #获取总行数\n",
    "ncols = table.ncols                                       #获取总列数   \n",
    "gold_data = []\n",
    "knowledge = []\n",
    "for i in range(1,nrows):\n",
    "    know, ques = table.row_values(i)\n",
    "    gold_data.append(ques)\n",
    "    knowledge.append(know)"
   ]
  },
  {
   "cell_type": "code",
   "execution_count": 3,
   "metadata": {},
   "outputs": [
    {
     "name": "stdout",
     "output_type": "stream",
     "text": [
      "你好\n"
     ]
    },
    {
     "data": {
      "text/plain": [
       "(501393, 1750)"
      ]
     },
     "execution_count": 3,
     "metadata": {},
     "output_type": "execute_result"
    }
   ],
   "source": [
    "add_data = open('data/msgwyeth.txt', 'r').read().split('\\n')\n",
    "print knowledge[0]\n",
    "len(add_data),len(knowledge)"
   ]
  },
  {
   "cell_type": "code",
   "execution_count": 4,
   "metadata": {},
   "outputs": [],
   "source": [
    "def get_question(data, knowledge):\n",
    "    questions = []\n",
    "    knowledges = []\n",
    "    for i in range(len(data)):\n",
    "        ques = data[i].split('||')\n",
    "        for que in ques:\n",
    "            if que != '':\n",
    "                questions.append(que)\n",
    "                knowledges.append(knowledge[i])\n",
    "    print questions[0]\n",
    "    print len(questions)\n",
    "    return questions, knowledges"
   ]
  },
  {
   "cell_type": "code",
   "execution_count": 5,
   "metadata": {},
   "outputs": [
    {
     "name": "stdout",
     "output_type": "stream",
     "text": [
      "亲在么\n",
      "74936\n"
     ]
    }
   ],
   "source": [
    "gold_questions, knowledges = get_question(gold_data, knowledge)"
   ]
  },
  {
   "cell_type": "code",
   "execution_count": 6,
   "metadata": {},
   "outputs": [],
   "source": [
    "#text = gold_questions + add_data #list(set(list(data['match'])))\n",
    "def jieba_tokenize(text):\n",
    "    return jieba.lcut(text) \n",
    "\n",
    "def cluster(text):\n",
    "    tfidf_vectorizer = TfidfVectorizer(tokenizer=jieba_tokenize, \\\n",
    "    lowercase=False)\n",
    "    '''\n",
    "    tokenizer: 指定分词函数\n",
    "    lowercase: 在分词之前将所有的文本转换成小写，因为涉及到中文文本处理，\n",
    "    所以最好是False\n",
    "    '''\n",
    "    text_list = text\n",
    "     #需要进行聚类的文本集\n",
    "    tfidf_matrix = tfidf_vectorizer.fit_transform(text_list)\n",
    "\n",
    "    num_clusters = len(knowledge)\n",
    "    print num_clusters\n",
    "    km_cluster = KMeans(n_clusters=num_clusters, max_iter=100, n_init=40, \\\n",
    "                        init='k-means++',n_jobs=20)\n",
    "    '''\n",
    "    n_clusters: 指定K的值\n",
    "    max_iter: 对于单次初始值计算的最大迭代次数\n",
    "    n_init: 重新选择初始值的次数\n",
    "    init: 制定初始值选择的算法\n",
    "    n_jobs: 进程个数，为-1的时候是指默认跑满CPU\n",
    "    注意，这个对于单个初始值的计算始终只会使用单进程计算，\n",
    "    并行计算只是针对与不同初始值的计算。比如n_init=10，n_jobs=40, \n",
    "    服务器上面有20个CPU可以开40个进程，最终只会开10个进程\n",
    "    '''\n",
    "    #返回各自文本的所被分配到的类索引\n",
    "    result = km_cluster.fit_predict(tfidf_matrix)\n",
    "\n",
    "    print \"Predicting result: \", result\n",
    "    return result"
   ]
  },
  {
   "cell_type": "code",
   "execution_count": null,
   "metadata": {},
   "outputs": [
    {
     "name": "stderr",
     "output_type": "stream",
     "text": [
      "Building prefix dict from the default dictionary ...\n",
      "Loading model from cache /tmp/jieba.cache\n"
     ]
    },
    {
     "name": "stdout",
     "output_type": "stream",
     "text": [
      "0\n",
      "74936\n"
     ]
    },
    {
     "name": "stderr",
     "output_type": "stream",
     "text": [
      "Loading model cost 0.276 seconds.\n",
      "Prefix dict has been built succesfully.\n"
     ]
    },
    {
     "name": "stdout",
     "output_type": "stream",
     "text": [
      "1750\n"
     ]
    },
    {
     "name": "stderr",
     "output_type": "stream",
     "text": [
      "/home/works/dl-tools/anaconda2/envs/tfenv.v1.2/lib/python2.7/site-packages/sklearn/feature_extraction/text.py:1089: FutureWarning: Conversion of the second argument of issubdtype from `float` to `np.floating` is deprecated. In future, it will be treated as `np.float64 == np.dtype(float).type`.\n",
      "  if hasattr(X, 'dtype') and np.issubdtype(X.dtype, np.float):\n"
     ]
    }
   ],
   "source": [
    "for i in range(50):\n",
    "    print i\n",
    "    start = time.time()\n",
    "    sample_add = random.sample(add_data, i * 10000)  #从list中随机获取i * 10000个元素，作为一个片断返回\n",
    "    text = gold_questions + sample_add\n",
    "    print len(text)\n",
    "    result = cluster(text)\n",
    "    pickle.dump(result, open('data/add'+str(i*10000)+'sample_cluster.txt', 'w'))\n",
    "    end = time.time()\n",
    "    print 'take time :' + str(end - start) + 'to cluster ' + str(len(text)) + 'data'"
   ]
  },
  {
   "cell_type": "code",
   "execution_count": null,
   "metadata": {},
   "outputs": [],
   "source": [
    "df = pd.DataFrame({'request_word':text[:len(gold_questions)], 'predict':result, 'real': knowledges})\n",
    "new_df = {}\n",
    "new_df['class_num'] = []\n",
    "new_df['request_words'] = []\n",
    "c = 0\n",
    "count = 0\n",
    "new_texts = []\n",
    "class_ = []\n",
    "num_ = []\n",
    "for i in df['predict'].unique():\n",
    "    d = list(df[df['predict'] == i]['request_word'])\n",
    "    new_df['class_num'].append(c)\n",
    "    new_df['request_words'].append('||'.join(d))\n",
    "    new_texts.append('||'.join(d))\n",
    "    num_.append(len(d))\n",
    "    class_.append(d[0])\n",
    "    count += len(d)\n",
    "    c += 1\n",
    "dff = pd.DataFrame({'question':new_texts, 'class':class_, 'num':num_})"
   ]
  },
  {
   "cell_type": "code",
   "execution_count": null,
   "metadata": {},
   "outputs": [],
   "source": [
    "dff"
   ]
  },
  {
   "cell_type": "code",
   "execution_count": null,
   "metadata": {},
   "outputs": [],
   "source": [
    "from sklearn import metrics\n",
    "labels_true = knowledges\n",
    "labels_pred = result\n",
    " \n",
    "print (metrics.adjusted_rand_score(labels_true, labels_pred))\n"
   ]
  },
  {
   "cell_type": "code",
   "execution_count": null,
   "metadata": {},
   "outputs": [],
   "source": []
  }
 ],
 "metadata": {
  "kernelspec": {
   "display_name": "Python [conda env:tfenv.v1.2]",
   "language": "python",
   "name": "conda-env-tfenv.v1.2-py"
  },
  "language_info": {
   "codemirror_mode": {
    "name": "ipython",
    "version": 2
   },
   "file_extension": ".py",
   "mimetype": "text/x-python",
   "name": "python",
   "nbconvert_exporter": "python",
   "pygments_lexer": "ipython2",
   "version": "2.7.15"
  }
 },
 "nbformat": 4,
 "nbformat_minor": 2
}
